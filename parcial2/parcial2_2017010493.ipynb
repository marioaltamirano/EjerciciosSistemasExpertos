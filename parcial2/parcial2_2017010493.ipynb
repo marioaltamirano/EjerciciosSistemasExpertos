{
 "cells": [
  {
   "cell_type": "code",
   "execution_count": 7,
   "metadata": {},
   "outputs": [],
   "source": [
    "import numpy as np\n",
    "import time as time\n",
    "import pandas as pd"
   ]
  },
  {
   "cell_type": "code",
   "execution_count": 8,
   "metadata": {},
   "outputs": [],
   "source": [
    "datos = np.random.normal(500,30,10000000)"
   ]
  },
  {
   "cell_type": "code",
   "execution_count": 9,
   "metadata": {
    "scrolled": false
   },
   "outputs": [
    {
     "data": {
      "text/plain": [
       "array([477.15113419, 528.51352648, 505.72675528, ..., 572.86096479,\n",
       "       516.07279096, 529.97387561])"
      ]
     },
     "execution_count": 9,
     "metadata": {},
     "output_type": "execute_result"
    }
   ],
   "source": [
    "datos"
   ]
  },
  {
   "cell_type": "code",
   "execution_count": 10,
   "metadata": {},
   "outputs": [
    {
     "name": "stdout",
     "output_type": "stream",
     "text": [
      "5000084449.67741\n",
      "Duracion: 4.6612420082092285 segundos\n"
     ]
    }
   ],
   "source": [
    "inicio = time.time()\n",
    "datos_menores = []\n",
    "#Se recorren los datos y se almacenan en X para finalmente agregarlos datos_menores\n",
    "for x in datos:\n",
    "    if (x < 500000):\n",
    "        datos_menores.append(x)\n",
    "        \n",
    "print ((sum(datos_menores)))\n",
    "print('Duracion: {} segundos'.format(time.time() - inicio))"
   ]
  },
  {
   "cell_type": "code",
   "execution_count": 40,
   "metadata": {},
   "outputs": [
    {
     "name": "stdout",
     "output_type": "stream",
     "text": [
      "5000084449.67741\n",
      "Duracion: 1.6905274391174316 segundos\n"
     ]
    }
   ],
   "source": [
    "inicio = time.time()\n",
    "menores = pd.DataFrame(datos)\n",
    "df = pd.DataFrame(df, datos <500000)\n",
    "print (sum(datos))\n",
    "print('Duracion: {} segundos'.format(time.time() - inicio))"
   ]
  },
  {
   "cell_type": "code",
   "execution_count": null,
   "metadata": {},
   "outputs": [],
   "source": []
  }
 ],
 "metadata": {
  "kernelspec": {
   "display_name": "Python 3",
   "language": "python",
   "name": "python3"
  },
  "language_info": {
   "codemirror_mode": {
    "name": "ipython",
    "version": 3
   },
   "file_extension": ".py",
   "mimetype": "text/x-python",
   "name": "python",
   "nbconvert_exporter": "python",
   "pygments_lexer": "ipython3",
   "version": "3.8.3"
  }
 },
 "nbformat": 4,
 "nbformat_minor": 4
}
