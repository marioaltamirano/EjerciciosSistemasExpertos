{
 "cells": [
  {
   "cell_type": "markdown",
   "metadata": {},
   "source": [
    "Optimizacion de Codigo, Ejemplo 1: Identificacion de Ventas en un periodo\n",
    "Generar metricas de desempeño es una tarea muy frecuente en cualquier ambito de negocio, el siguiente codigo fue escrito para identificar qué libros fueron vendidos a partir de un listado especifico:"
   ]
  },
  {
   "cell_type": "code",
   "execution_count": 11,
   "metadata": {},
   "outputs": [],
   "source": [
    "import time\n",
    "import pandas as pd\n",
    "import numpy as np"
   ]
  },
  {
   "cell_type": "code",
   "execution_count": 12,
   "metadata": {},
   "outputs": [],
   "source": [
    "with open('libros_24_meses.txt') as periodo:\n",
    "    periodo24_ventas_libros = periodo.read().split('\\n')\n",
    "    \n",
    "with open('catalogo_libros.txt') as catalogo:\n",
    "    catalogo_libros = catalogo.read().split('\\n')"
   ]
  },
  {
   "cell_type": "code",
   "execution_count": 13,
   "metadata": {},
   "outputs": [
    {
     "ename": "KeyboardInterrupt",
     "evalue": "",
     "output_type": "error",
     "traceback": [
      "\u001b[1;31m---------------------------------------------------------------------------\u001b[0m",
      "\u001b[1;31mKeyboardInterrupt\u001b[0m                         Traceback (most recent call last)",
      "\u001b[1;32m<ipython-input-13-2722bf9d02fd>\u001b[0m in \u001b[0;36m<module>\u001b[1;34m\u001b[0m\n\u001b[0;32m      2\u001b[0m \u001b[0mlibros_vendidos\u001b[0m \u001b[1;33m=\u001b[0m \u001b[1;33m[\u001b[0m\u001b[1;33m]\u001b[0m\u001b[1;33m\u001b[0m\u001b[1;33m\u001b[0m\u001b[0m\n\u001b[0;32m      3\u001b[0m \u001b[1;33m\u001b[0m\u001b[0m\n\u001b[1;32m----> 4\u001b[1;33m \u001b[1;32mfor\u001b[0m \u001b[0mlibro\u001b[0m \u001b[1;32min\u001b[0m \u001b[0mperiodo24_ventas_libros\u001b[0m\u001b[1;33m:\u001b[0m\u001b[1;33m\u001b[0m\u001b[1;33m\u001b[0m\u001b[0m\n\u001b[0m\u001b[0;32m      5\u001b[0m     \u001b[1;32mif\u001b[0m \u001b[0mlibro\u001b[0m \u001b[1;32min\u001b[0m \u001b[0mcatalogo_libros\u001b[0m\u001b[1;33m:\u001b[0m\u001b[1;33m\u001b[0m\u001b[1;33m\u001b[0m\u001b[0m\n\u001b[0;32m      6\u001b[0m         \u001b[0mlibros_vendidos\u001b[0m\u001b[1;33m.\u001b[0m\u001b[0mappend\u001b[0m\u001b[1;33m(\u001b[0m\u001b[0mlibro\u001b[0m\u001b[1;33m)\u001b[0m\u001b[1;33m\u001b[0m\u001b[1;33m\u001b[0m\u001b[0m\n",
      "\u001b[1;31mKeyboardInterrupt\u001b[0m: "
     ]
    }
   ],
   "source": [
    "inicio = time.time()\n",
    "libros_vendidos = []\n",
    "\n",
    "for libro in periodo24_ventas_libros:\n",
    "    if libro in catalogo_libros:\n",
    "        libros_vendidos.append(libro)\n",
    "\n",
    "print(len(libros_vendidos))\n",
    "print('Duracion: {} segundos'.format(time.time() - inicio))"
   ]
  },
  {
   "cell_type": "markdown",
   "metadata": {},
   "source": [
    "Propuesta de optimizacion 1: utilizar operaciones con vectores en lugar de estructuras de control repetitivas cuando esto sea posible; para este escenario se propone evaluar el uso del metodo intersect1d de la libreria numpy para que nos permita obtener la interseccion de ambos dataset:"
   ]
  },
  {
   "cell_type": "code",
   "execution_count": 15,
   "metadata": {},
   "outputs": [
    {
     "name": "stdout",
     "output_type": "stream",
     "text": [
      "96\n",
      "Duracion: 0.031261444091796875 segundos\n"
     ]
    }
   ],
   "source": [
    "inicio = time.time()\n",
    "libros_vendidos = np.intersect1d(periodo24_ventas_libros, catalogo_libros)\n",
    "print(len(libros_vendidos))\n",
    "print('Duracion: {} segundos'.format(time.time() - inicio))"
   ]
  },
  {
   "cell_type": "markdown",
   "metadata": {},
   "source": [
    "Asignacion 2:Otro enfoque para optimizar el codigo fuente puede ser..."
   ]
  },
  {
   "cell_type": "code",
   "execution_count": 4,
   "metadata": {},
   "outputs": [
    {
     "name": "stdout",
     "output_type": "stream",
     "text": [
      "96\n",
      "Duracion: 0.0249326229095459 segundos\n"
     ]
    }
   ],
   "source": [
    "inicio = time.time()\n",
    "ventas_periodo = pd.Index(periodo24_ventas_libros)\n",
    "catologo_libros = pd.Index(catalogo_libros)\n",
    "libro_vendido = ventas_periodo.intersection(catologo_libros)\n",
    "print(len(libro_vendido))\n",
    "print('Duracion: {} segundos'.format(time.time() - inicio))"
   ]
  },
  {
   "cell_type": "markdown",
   "metadata": {},
   "source": [
    "Ejercicio 4"
   ]
  },
  {
   "cell_type": "code",
   "execution_count": 6,
   "metadata": {},
   "outputs": [
    {
     "name": "stdout",
     "output_type": "stream",
     "text": [
      "96\n",
      "Duracion: 0.015409469604492188 segundos\n"
     ]
    }
   ],
   "source": [
    "inicio = time.time()\n",
    "libro_vendido = set(periodo24_ventas_libros).intersection(set(catalogo_libros))\n",
    "print(len(libro_vendido))\n",
    "print('Duracion: {} segundos'.format(time.time() - inicio))"
   ]
  }
 ],
 "metadata": {
  "kernelspec": {
   "display_name": "Python 3",
   "language": "python",
   "name": "python3"
  },
  "language_info": {
   "codemirror_mode": {
    "name": "ipython",
    "version": 3
   },
   "file_extension": ".py",
   "mimetype": "text/x-python",
   "name": "python",
   "nbconvert_exporter": "python",
   "pygments_lexer": "ipython3",
   "version": "3.8.3"
  }
 },
 "nbformat": 4,
 "nbformat_minor": 2
}
