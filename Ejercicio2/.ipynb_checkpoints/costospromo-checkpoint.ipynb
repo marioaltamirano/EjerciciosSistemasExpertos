{
 "cells": [
  {
   "cell_type": "markdown",
   "metadata": {},
   "source": [
    "Una tienda en linea tiene mas de 1 millon de usuarios, cada una de ellos agregó al menos un producto a su lista de deseos. Ud. tiene acceso al precio de cada item el cual se encuentra almacenado en un archivo denominado costos.txt. Ya que se acerca el fin de año la compañía ha decidido hacer un obsequio a cada cliente si en su lista de deseos se encuentra un item con un costo abajo de 25 dolares. Ud. necesita calcular el costo en que la compañía incurrirá al hacer efectiva esta promocion. "
   ]
  }
 ],
 "metadata": {
  "kernelspec": {
   "display_name": "Python 3",
   "language": "python",
   "name": "python3"
  },
  "language_info": {
   "codemirror_mode": {
    "name": "ipython",
    "version": 3
   },
   "file_extension": ".py",
   "mimetype": "text/x-python",
   "name": "python",
   "nbconvert_exporter": "python",
   "pygments_lexer": "ipython3",
   "version": "3.6.9"
  }
 },
 "nbformat": 4,
 "nbformat_minor": 2
}
