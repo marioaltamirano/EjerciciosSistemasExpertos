{
 "cells": [
  {
   "cell_type": "markdown",
   "metadata": {},
   "source": [
    "Aplique todos los conceptos de buenas prácticas en Ingeniería de Software para plantear una solución\n",
    "viable en el siguiente escenario:\n",
    "Una tienda de ventas en línea tiene un millon de usuarios, cada uno tiene una selección en su lista de\n",
    "deseos, el precio de venta de cada uno de las selecciones está almacenada en el archivo “costos.txt”\n",
    "(disponible en el repositorio del facilitador de la materia).\n",
    "Como estrategia de fidelización de clientes, para la festividad de la natividad del 2020 la compañía va a\n",
    "regalar a cada cliente la selección si ésta tiene un costo menor a $25. Se solicita que codifique una\n",
    "solución para determinar el monto que la compañía va a internir en esta campaña. Deberá codificar al\n",
    "menos 2 soluciones para que el cliente pueda seleccionar la idónea basada en un indicador de\n",
    "desempeño en términos de tiempo.\n",
    "Su solución debe estar en su repositorio de código fuente y el seguimiento a sus consultas y\n",
    "comentarios será exclusivamente en el foro activo de la Secuencia de Aprendizaje B."
   ]
  },
  {
   "cell_type": "code",
   "execution_count": 7,
   "metadata": {},
   "outputs": [],
   "source": [
    "import time\n",
    "import pandas as pd\n",
    "import numpy as np"
   ]
  },
  {
   "cell_type": "code",
   "execution_count": 48,
   "metadata": {},
   "outputs": [],
   "source": [
    "with open('costos.txt') as costo_orden:\n",
    "    lista_deseos = map(int,costo_orden.read().split('\\n'))"
   ]
  },
  {
   "cell_type": "code",
   "execution_count": 54,
   "metadata": {},
   "outputs": [
    {
     "name": "stdout",
     "output_type": "stream",
     "text": [
      "El total de la inversion es:  $  32869928\n",
      "Duracion: 0.7941546440124512 segundos\n"
     ]
    }
   ],
   "source": [
    "inicio = time.time()\n",
    "carrito_deseos = []\n",
    "\n",
    "for costo in list(lista_deseos):\n",
    "    if costo <= 25:\n",
    "        carrito_deseos.append(costo)\n",
    "\n",
    "print (\"El total de la inversion es:  $  {}\".format(sum(carrito_deseos)))\n",
    "print('Duracion: {} segundos'.format(time.time() - inicio))"
   ]
  },
  {
   "cell_type": "markdown",
   "metadata": {},
   "source": [
    "Propuesta # 2 "
   ]
  },
  {
   "cell_type": "code",
   "execution_count": 52,
   "metadata": {},
   "outputs": [
    {
     "name": "stdout",
     "output_type": "stream",
     "text": [
      "El total de la inversion es:  $  32869928\n",
      "Duracion: 0.5796213150024414 segundos\n"
     ]
    }
   ],
   "source": [
    "inicio = time.time()\n",
    "lista_deseos=list(lista_deseos)\n",
    "carrito_deseos = np.array(lista_deseos)\n",
    "costo_tienda = carrito_deseos[carrito_deseos <= 25]\n",
    "print (\"El total de la inversion es:  $  {}\".format(np.sum(costo_tienda)))\n",
    "print ('Duracion: {} segundos'.format(time.time() - inicio))"
   ]
  },
  {
   "cell_type": "markdown",
   "metadata": {},
   "source": []
  }
 ],
 "metadata": {
  "kernelspec": {
   "display_name": "Python 3",
   "language": "python",
   "name": "python3"
  },
  "language_info": {
   "codemirror_mode": {
    "name": "ipython",
    "version": 3
   },
   "file_extension": ".py",
   "mimetype": "text/x-python",
   "name": "python",
   "nbconvert_exporter": "python",
   "pygments_lexer": "ipython3",
   "version": "3.8.3"
  }
 },
 "nbformat": 4,
 "nbformat_minor": 2
}
